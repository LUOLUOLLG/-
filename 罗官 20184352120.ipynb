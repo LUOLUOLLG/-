{
 "cells": [
  {
   "cell_type": "code",
   "execution_count": 1,
   "id": "96ea0c1a-87e6-403c-8082-8a167392a797",
   "metadata": {},
   "outputs": [],
   "source": [
    "#罗官 20184352120 18软智01班\n",
    "#天池大数据竞赛——贷款违约预测 网址:https://tianchi.aliyun.com/competition/entrance/531830/introduction\n",
    "#训练集：train.csv 测试集：testA.csv\n",
    "###################################################################################################\n",
    "###################################################################################################\n",
    "#导入包\n",
    "import pandas as pd\n",
    "import os\n",
    "import gc\n",
    "import lightgbm as lgb\n",
    "import xgboost as xgb\n",
    "from catboost import CatBoostRegressor\n",
    "from sklearn.preprocessing import MinMaxScaler\n",
    "import math\n",
    "import numpy as np\n",
    "from tqdm import tqdm\n",
    "from sklearn.model_selection import StratifiedKFold, KFold\n",
    "from sklearn.metrics import accuracy_score, f1_score, roc_auc_score, log_loss\n",
    "import time\n",
    "import warnings\n",
    "warnings.filterwarnings('ignore')"
   ]
  },
  {
   "cell_type": "code",
   "execution_count": 2,
   "id": "a2ed2c27-d802-4014-bbe8-7a6362a6f60d",
   "metadata": {},
   "outputs": [
    {
     "name": "stdout",
     "output_type": "stream",
     "text": [
      "训练集大小： (800000, 47)\n",
      "测试集大小： (200000, 46)\n"
     ]
    }
   ],
   "source": [
    "#导入数据集\n",
    "train = pd.read_csv('train.csv')\n",
    "print('训练集大小：',train.shape)\n",
    "testA = pd.read_csv('testA.csv')\n",
    "print('测试集大小：',testA.shape)"
   ]
  },
  {
   "cell_type": "code",
   "execution_count": 3,
   "id": "6e1f9be4-69f8-4ce0-af12-a509557528f8",
   "metadata": {},
   "outputs": [],
   "source": [
    "numerical_fea = list(train.select_dtypes(exclude=['object']).columns)\n",
    "category_fea = list(filter(lambda x: x not in numerical_fea,list(train.columns)))\n",
    "label = 'isDefault'\n",
    "numerical_fea.remove(label)"
   ]
  },
  {
   "cell_type": "code",
   "execution_count": 4,
   "id": "4ced3230-76a6-4dba-9f38-a5b698fc2698",
   "metadata": {},
   "outputs": [
    {
     "data": {
      "text/plain": [
       "id                        0\n",
       "loanAmnt                  0\n",
       "term                      0\n",
       "interestRate              0\n",
       "installment               0\n",
       "grade                     0\n",
       "subGrade                  0\n",
       "employmentTitle           1\n",
       "employmentLength      46799\n",
       "homeOwnership             0\n",
       "annualIncome              0\n",
       "verificationStatus        0\n",
       "issueDate                 0\n",
       "isDefault                 0\n",
       "purpose                   0\n",
       "postCode                  1\n",
       "regionCode                0\n",
       "dti                     239\n",
       "delinquency_2years        0\n",
       "ficoRangeLow              0\n",
       "ficoRangeHigh             0\n",
       "openAcc                   0\n",
       "pubRec                    0\n",
       "pubRecBankruptcies      405\n",
       "revolBal                  0\n",
       "revolUtil               531\n",
       "totalAcc                  0\n",
       "initialListStatus         0\n",
       "applicationType           0\n",
       "earliesCreditLine         0\n",
       "title                     1\n",
       "policyCode                0\n",
       "n0                    40270\n",
       "n1                    40270\n",
       "n2                    40270\n",
       "n3                    40270\n",
       "n4                    33239\n",
       "n5                    40270\n",
       "n6                    40270\n",
       "n7                    40270\n",
       "n8                    40271\n",
       "n9                    40270\n",
       "n10                   33239\n",
       "n11                   69752\n",
       "n12                   40270\n",
       "n13                   40270\n",
       "n14                   40270\n",
       "dtype: int64"
      ]
     },
     "execution_count": 4,
     "metadata": {},
     "output_type": "execute_result"
    }
   ],
   "source": [
    "#查看缺省值情况\n",
    "train.isnull().sum()"
   ]
  },
  {
   "cell_type": "code",
   "execution_count": 5,
   "id": "d2dee694-ef4e-45e2-8936-f74f0b5c77f9",
   "metadata": {},
   "outputs": [],
   "source": [
    "#按照中位数填充数值型特征\n",
    "train[numerical_fea] = train[numerical_fea].fillna(train[numerical_fea].median())\n",
    "testA[numerical_fea] = testA[numerical_fea].fillna(train[numerical_fea].median())\n",
    "#按照众数填充类别型特征\n",
    "train[category_fea] = train[category_fea].fillna(train[category_fea].mode())\n",
    "testA[category_fea] = testA[category_fea].fillna(train[category_fea].mode())"
   ]
  },
  {
   "cell_type": "code",
   "execution_count": 6,
   "id": "e5a01380-67ab-4794-bac8-066334b107b3",
   "metadata": {},
   "outputs": [
    {
     "data": {
      "text/plain": [
       "id                        0\n",
       "loanAmnt                  0\n",
       "term                      0\n",
       "interestRate              0\n",
       "installment               0\n",
       "grade                     0\n",
       "subGrade                  0\n",
       "employmentTitle           0\n",
       "employmentLength      46799\n",
       "homeOwnership             0\n",
       "annualIncome              0\n",
       "verificationStatus        0\n",
       "issueDate                 0\n",
       "isDefault                 0\n",
       "purpose                   0\n",
       "postCode                  0\n",
       "regionCode                0\n",
       "dti                       0\n",
       "delinquency_2years        0\n",
       "ficoRangeLow              0\n",
       "ficoRangeHigh             0\n",
       "openAcc                   0\n",
       "pubRec                    0\n",
       "pubRecBankruptcies        0\n",
       "revolBal                  0\n",
       "revolUtil                 0\n",
       "totalAcc                  0\n",
       "initialListStatus         0\n",
       "applicationType           0\n",
       "earliesCreditLine         0\n",
       "title                     0\n",
       "policyCode                0\n",
       "n0                        0\n",
       "n1                        0\n",
       "n2                        0\n",
       "n3                        0\n",
       "n4                        0\n",
       "n5                        0\n",
       "n6                        0\n",
       "n7                        0\n",
       "n8                        0\n",
       "n9                        0\n",
       "n10                       0\n",
       "n11                       0\n",
       "n12                       0\n",
       "n13                       0\n",
       "n14                       0\n",
       "dtype: int64"
      ]
     },
     "execution_count": 6,
     "metadata": {},
     "output_type": "execute_result"
    }
   ],
   "source": [
    "#查看更新后的缺省值情况\n",
    "train.isnull().sum()"
   ]
  },
  {
   "cell_type": "code",
   "execution_count": 7,
   "id": "93718ebb-4cc2-43cc-82ca-484c577db5c5",
   "metadata": {},
   "outputs": [
    {
     "name": "stdout",
     "output_type": "stream",
     "text": [
      "合并后的数据集大小: (1000000, 47)\n"
     ]
    }
   ],
   "source": [
    "data = pd.concat([train, testA], axis=0, ignore_index=True)\n",
    "data.head()\n",
    "print('合并后的数据集大小:',data.shape)"
   ]
  },
  {
   "cell_type": "code",
   "execution_count": 8,
   "id": "abbfe9c3-add9-4ae6-aceb-67f3d53f6ea6",
   "metadata": {},
   "outputs": [
    {
     "name": "stdout",
     "output_type": "stream",
     "text": [
      "<class 'pandas.core.frame.DataFrame'>\n",
      "RangeIndex: 1000000 entries, 0 to 999999\n",
      "Data columns (total 47 columns):\n",
      " #   Column              Non-Null Count    Dtype  \n",
      "---  ------              --------------    -----  \n",
      " 0   id                  1000000 non-null  int64  \n",
      " 1   loanAmnt            1000000 non-null  float64\n",
      " 2   term                1000000 non-null  int64  \n",
      " 3   interestRate        1000000 non-null  float64\n",
      " 4   installment         1000000 non-null  float64\n",
      " 5   grade               1000000 non-null  object \n",
      " 6   subGrade            1000000 non-null  object \n",
      " 7   employmentTitle     1000000 non-null  float64\n",
      " 8   employmentLength    941459 non-null   object \n",
      " 9   homeOwnership       1000000 non-null  int64  \n",
      " 10  annualIncome        1000000 non-null  float64\n",
      " 11  verificationStatus  1000000 non-null  int64  \n",
      " 12  issueDate           1000000 non-null  object \n",
      " 13  isDefault           800000 non-null   float64\n",
      " 14  purpose             1000000 non-null  int64  \n",
      " 15  postCode            1000000 non-null  float64\n",
      " 16  regionCode          1000000 non-null  int64  \n",
      " 17  dti                 1000000 non-null  float64\n",
      " 18  delinquency_2years  1000000 non-null  float64\n",
      " 19  ficoRangeLow        1000000 non-null  float64\n",
      " 20  ficoRangeHigh       1000000 non-null  float64\n",
      " 21  openAcc             1000000 non-null  float64\n",
      " 22  pubRec              1000000 non-null  float64\n",
      " 23  pubRecBankruptcies  1000000 non-null  float64\n",
      " 24  revolBal            1000000 non-null  float64\n",
      " 25  revolUtil           1000000 non-null  float64\n",
      " 26  totalAcc            1000000 non-null  float64\n",
      " 27  initialListStatus   1000000 non-null  int64  \n",
      " 28  applicationType     1000000 non-null  int64  \n",
      " 29  earliesCreditLine   1000000 non-null  object \n",
      " 30  title               1000000 non-null  float64\n",
      " 31  policyCode          1000000 non-null  float64\n",
      " 32  n0                  1000000 non-null  float64\n",
      " 33  n1                  1000000 non-null  float64\n",
      " 34  n2                  1000000 non-null  float64\n",
      " 35  n3                  1000000 non-null  float64\n",
      " 36  n4                  1000000 non-null  float64\n",
      " 37  n5                  1000000 non-null  float64\n",
      " 38  n6                  1000000 non-null  float64\n",
      " 39  n7                  1000000 non-null  float64\n",
      " 40  n8                  1000000 non-null  float64\n",
      " 41  n9                  1000000 non-null  float64\n",
      " 42  n10                 1000000 non-null  float64\n",
      " 43  n11                 1000000 non-null  float64\n",
      " 44  n12                 1000000 non-null  float64\n",
      " 45  n13                 1000000 non-null  float64\n",
      " 46  n14                 1000000 non-null  float64\n",
      "dtypes: float64(34), int64(8), object(5)\n",
      "memory usage: 358.6+ MB\n"
     ]
    }
   ],
   "source": [
    "#数据类型\n",
    "data.info()"
   ]
  },
  {
   "cell_type": "code",
   "execution_count": 9,
   "id": "3b65c0a8-04dd-4155-897b-5e2a239aafac",
   "metadata": {},
   "outputs": [
    {
     "name": "stdout",
     "output_type": "stream",
     "text": [
      "['A', 'B', 'C', 'D', 'E', 'F', 'G']\n",
      "['A1', 'A2', 'A3', 'A4', 'A5', 'B1', 'B2', 'B3', 'B4', 'B5', 'C1', 'C2', 'C3', 'C4', 'C5', 'D1', 'D2', 'D3', 'D4', 'D5', 'E1', 'E2', 'E3', 'E4', 'E5', 'F1', 'F2', 'F3', 'F4', 'F5', 'G1', 'G2', 'G3', 'G4', 'G5']\n"
     ]
    }
   ],
   "source": [
    "#unique()函数：对于一维数组或者列表，unique函数去除其中重复的元素，并按元素由大到小返回一个新的无元素重复的元组或者列表\n",
    "#返回数据集 grade列 和 subGrade列按从大到小顺序排序\n",
    "print(sorted(data['grade'].unique()))\n",
    "print(sorted(data['subGrade'].unique()))"
   ]
  },
  {
   "cell_type": "code",
   "execution_count": 10,
   "id": "f483d2d3-861b-4a7e-adca-2b0c6291a16a",
   "metadata": {},
   "outputs": [
    {
     "data": {
      "text/plain": [
       "1 year        65671\n",
       "10+ years    328525\n",
       "2 years       90565\n",
       "3 years       80163\n",
       "4 years       59818\n",
       "5 years       62645\n",
       "6 years       46582\n",
       "7 years       44230\n",
       "8 years       45168\n",
       "9 years       37866\n",
       "< 1 year      80226\n",
       "NaN           58541\n",
       "Name: employmentLength, dtype: int64"
      ]
     },
     "execution_count": 10,
     "metadata": {},
     "output_type": "execute_result"
    }
   ],
   "source": [
    "#value_counts()是一种查看表格某列中有多少个不同值的快捷方法，并计算每个不同值有在该列中有多少重复值。\n",
    "#sort_index()排序\n",
    "#返回特征employmentLength的不同值\n",
    "data['employmentLength'].value_counts(dropna=False).sort_index()"
   ]
  },
  {
   "cell_type": "code",
   "execution_count": 11,
   "id": "944d68c0-f314-4f56-98b4-5a27412618e9",
   "metadata": {},
   "outputs": [],
   "source": [
    "# - 首先对employmentLength进行转换到数值\n",
    "#将>10 years替换成10 years,将 <1 years替换成 0 years\n",
    "data['employmentLength'].replace(to_replace='10+ years', value='10 years', inplace=True)\n",
    "data['employmentLength'].replace('< 1 year', '0 years', inplace=True)\n",
    "\n",
    "def employmentLength_to_int(s):\n",
    "    if pd.isnull(s):\n",
    "        return s\n",
    "    else:\n",
    "        return np.int8(s.split()[0])\n",
    "    \n",
    "data['employmentLength'] = data['employmentLength'].apply(employmentLength_to_int)"
   ]
  },
  {
   "cell_type": "code",
   "execution_count": 12,
   "id": "556dd819-151a-4cc7-be3f-e62de11f4941",
   "metadata": {},
   "outputs": [
    {
     "data": {
      "text/plain": [
       "0.0      80226\n",
       "1.0      65671\n",
       "2.0      90565\n",
       "3.0      80163\n",
       "4.0      59818\n",
       "5.0      62645\n",
       "6.0      46582\n",
       "7.0      44230\n",
       "8.0      45168\n",
       "9.0      37866\n",
       "10.0    328525\n",
       "NaN      58541\n",
       "Name: employmentLength, dtype: int64"
      ]
     },
     "execution_count": 12,
     "metadata": {},
     "output_type": "execute_result"
    }
   ],
   "source": [
    "#对转换后的特征值进行统计排序\n",
    "data['employmentLength'].value_counts(dropna=False).sort_index()"
   ]
  },
  {
   "cell_type": "code",
   "execution_count": 13,
   "id": "68220b88-02d0-4919-8136-a2e2b46d529b",
   "metadata": {},
   "outputs": [],
   "source": [
    "data['employmentLength'] = data['employmentLength'].fillna(data['employmentLength'].mean())"
   ]
  },
  {
   "cell_type": "code",
   "execution_count": 14,
   "id": "9e19b81e-8e13-40b4-9b9b-2b063321b586",
   "metadata": {},
   "outputs": [
    {
     "data": {
      "text/plain": [
       "524964    Sep-2006\n",
       "931197    Apr-2003\n",
       "703820    Apr-1986\n",
       "161184    Sep-2007\n",
       "468782    Mar-2004\n",
       "Name: earliesCreditLine, dtype: object"
      ]
     },
     "execution_count": 14,
     "metadata": {},
     "output_type": "execute_result"
    }
   ],
   "source": [
    "# - 对earliesCreditLine进行预处理\n",
    "#sample():从序列a中随机抽取n个元素，并将n个元素生以list形式返回。\n",
    "data['earliesCreditLine'].sample(5)"
   ]
  },
  {
   "cell_type": "code",
   "execution_count": 15,
   "id": "ae76f981-25a3-4008-bd22-0f9afd614540",
   "metadata": {},
   "outputs": [],
   "source": [
    "#缺省值处理\n",
    "data['earliesCreditLine'] = data['earliesCreditLine'].apply(lambda s: int(s[-4:]))"
   ]
  },
  {
   "cell_type": "code",
   "execution_count": 16,
   "id": "4008b72f-5b97-44de-a6dc-cfe038c9d257",
   "metadata": {},
   "outputs": [
    {
     "data": {
      "text/plain": [
       "count    1000000.000000\n",
       "mean        1998.688632\n",
       "std            7.606231\n",
       "min         1944.000000\n",
       "25%         1995.000000\n",
       "50%         2000.000000\n",
       "75%         2004.000000\n",
       "max         2015.000000\n",
       "Name: earliesCreditLine, dtype: float64"
      ]
     },
     "execution_count": 16,
     "metadata": {},
     "output_type": "execute_result"
    }
   ],
   "source": [
    "#describe():返回pandas的Series和DataFrame这两个核心数据结构的统计变量。\n",
    "data['earliesCreditLine'].describe()"
   ]
  },
  {
   "cell_type": "code",
   "execution_count": 17,
   "id": "7c39976f-e280-4afa-9f80-616be81a6554",
   "metadata": {},
   "outputs": [
    {
     "data": {
      "text/html": [
       "<div>\n",
       "<style scoped>\n",
       "    .dataframe tbody tr th:only-of-type {\n",
       "        vertical-align: middle;\n",
       "    }\n",
       "\n",
       "    .dataframe tbody tr th {\n",
       "        vertical-align: top;\n",
       "    }\n",
       "\n",
       "    .dataframe thead th {\n",
       "        text-align: right;\n",
       "    }\n",
       "</style>\n",
       "<table border=\"1\" class=\"dataframe\">\n",
       "  <thead>\n",
       "    <tr style=\"text-align: right;\">\n",
       "      <th></th>\n",
       "      <th>id</th>\n",
       "      <th>loanAmnt</th>\n",
       "      <th>term</th>\n",
       "      <th>interestRate</th>\n",
       "      <th>installment</th>\n",
       "      <th>grade</th>\n",
       "      <th>subGrade</th>\n",
       "      <th>employmentTitle</th>\n",
       "      <th>employmentLength</th>\n",
       "      <th>homeOwnership</th>\n",
       "      <th>...</th>\n",
       "      <th>n5</th>\n",
       "      <th>n6</th>\n",
       "      <th>n7</th>\n",
       "      <th>n8</th>\n",
       "      <th>n9</th>\n",
       "      <th>n10</th>\n",
       "      <th>n11</th>\n",
       "      <th>n12</th>\n",
       "      <th>n13</th>\n",
       "      <th>n14</th>\n",
       "    </tr>\n",
       "  </thead>\n",
       "  <tbody>\n",
       "    <tr>\n",
       "      <th>0</th>\n",
       "      <td>0</td>\n",
       "      <td>35000.0</td>\n",
       "      <td>5</td>\n",
       "      <td>19.52</td>\n",
       "      <td>917.97</td>\n",
       "      <td>E</td>\n",
       "      <td>E2</td>\n",
       "      <td>320.0</td>\n",
       "      <td>2.000000</td>\n",
       "      <td>2</td>\n",
       "      <td>...</td>\n",
       "      <td>9.0</td>\n",
       "      <td>8.0</td>\n",
       "      <td>4.0</td>\n",
       "      <td>12.0</td>\n",
       "      <td>2.0</td>\n",
       "      <td>7.0</td>\n",
       "      <td>0.0</td>\n",
       "      <td>0.0</td>\n",
       "      <td>0.0</td>\n",
       "      <td>2.0</td>\n",
       "    </tr>\n",
       "    <tr>\n",
       "      <th>1</th>\n",
       "      <td>1</td>\n",
       "      <td>18000.0</td>\n",
       "      <td>5</td>\n",
       "      <td>18.49</td>\n",
       "      <td>461.90</td>\n",
       "      <td>D</td>\n",
       "      <td>D2</td>\n",
       "      <td>219843.0</td>\n",
       "      <td>5.000000</td>\n",
       "      <td>0</td>\n",
       "      <td>...</td>\n",
       "      <td>7.0</td>\n",
       "      <td>7.0</td>\n",
       "      <td>7.0</td>\n",
       "      <td>13.0</td>\n",
       "      <td>5.0</td>\n",
       "      <td>13.0</td>\n",
       "      <td>0.0</td>\n",
       "      <td>0.0</td>\n",
       "      <td>0.0</td>\n",
       "      <td>2.0</td>\n",
       "    </tr>\n",
       "    <tr>\n",
       "      <th>2</th>\n",
       "      <td>2</td>\n",
       "      <td>12000.0</td>\n",
       "      <td>5</td>\n",
       "      <td>16.99</td>\n",
       "      <td>298.17</td>\n",
       "      <td>D</td>\n",
       "      <td>D3</td>\n",
       "      <td>31698.0</td>\n",
       "      <td>8.000000</td>\n",
       "      <td>0</td>\n",
       "      <td>...</td>\n",
       "      <td>0.0</td>\n",
       "      <td>21.0</td>\n",
       "      <td>4.0</td>\n",
       "      <td>5.0</td>\n",
       "      <td>3.0</td>\n",
       "      <td>11.0</td>\n",
       "      <td>0.0</td>\n",
       "      <td>0.0</td>\n",
       "      <td>0.0</td>\n",
       "      <td>4.0</td>\n",
       "    </tr>\n",
       "    <tr>\n",
       "      <th>3</th>\n",
       "      <td>3</td>\n",
       "      <td>11000.0</td>\n",
       "      <td>3</td>\n",
       "      <td>7.26</td>\n",
       "      <td>340.96</td>\n",
       "      <td>A</td>\n",
       "      <td>A4</td>\n",
       "      <td>46854.0</td>\n",
       "      <td>10.000000</td>\n",
       "      <td>1</td>\n",
       "      <td>...</td>\n",
       "      <td>16.0</td>\n",
       "      <td>4.0</td>\n",
       "      <td>7.0</td>\n",
       "      <td>21.0</td>\n",
       "      <td>6.0</td>\n",
       "      <td>9.0</td>\n",
       "      <td>0.0</td>\n",
       "      <td>0.0</td>\n",
       "      <td>0.0</td>\n",
       "      <td>1.0</td>\n",
       "    </tr>\n",
       "    <tr>\n",
       "      <th>4</th>\n",
       "      <td>4</td>\n",
       "      <td>3000.0</td>\n",
       "      <td>3</td>\n",
       "      <td>12.99</td>\n",
       "      <td>101.07</td>\n",
       "      <td>C</td>\n",
       "      <td>C2</td>\n",
       "      <td>54.0</td>\n",
       "      <td>5.965504</td>\n",
       "      <td>1</td>\n",
       "      <td>...</td>\n",
       "      <td>4.0</td>\n",
       "      <td>9.0</td>\n",
       "      <td>10.0</td>\n",
       "      <td>15.0</td>\n",
       "      <td>7.0</td>\n",
       "      <td>12.0</td>\n",
       "      <td>0.0</td>\n",
       "      <td>0.0</td>\n",
       "      <td>0.0</td>\n",
       "      <td>4.0</td>\n",
       "    </tr>\n",
       "  </tbody>\n",
       "</table>\n",
       "<p>5 rows × 47 columns</p>\n",
       "</div>"
      ],
      "text/plain": [
       "   id  loanAmnt  term  interestRate  installment grade subGrade  \\\n",
       "0   0   35000.0     5         19.52       917.97     E       E2   \n",
       "1   1   18000.0     5         18.49       461.90     D       D2   \n",
       "2   2   12000.0     5         16.99       298.17     D       D3   \n",
       "3   3   11000.0     3          7.26       340.96     A       A4   \n",
       "4   4    3000.0     3         12.99       101.07     C       C2   \n",
       "\n",
       "   employmentTitle  employmentLength  homeOwnership  ...    n5    n6    n7  \\\n",
       "0            320.0          2.000000              2  ...   9.0   8.0   4.0   \n",
       "1         219843.0          5.000000              0  ...   7.0   7.0   7.0   \n",
       "2          31698.0          8.000000              0  ...   0.0  21.0   4.0   \n",
       "3          46854.0         10.000000              1  ...  16.0   4.0   7.0   \n",
       "4             54.0          5.965504              1  ...   4.0   9.0  10.0   \n",
       "\n",
       "     n8   n9   n10  n11  n12  n13  n14  \n",
       "0  12.0  2.0   7.0  0.0  0.0  0.0  2.0  \n",
       "1  13.0  5.0  13.0  0.0  0.0  0.0  2.0  \n",
       "2   5.0  3.0  11.0  0.0  0.0  0.0  4.0  \n",
       "3  21.0  6.0   9.0  0.0  0.0  0.0  1.0  \n",
       "4  15.0  7.0  12.0  0.0  0.0  0.0  4.0  \n",
       "\n",
       "[5 rows x 47 columns]"
      ]
     },
     "execution_count": 17,
     "metadata": {},
     "output_type": "execute_result"
    }
   ],
   "source": [
    "#返回data前5行数据，employmentLength已经进行了预处理 \n",
    "data.head()"
   ]
  },
  {
   "cell_type": "code",
   "execution_count": 18,
   "id": "831434ee-582a-4c4b-af31-98a3ba7648d5",
   "metadata": {},
   "outputs": [
    {
     "name": "stdout",
     "output_type": "stream",
     "text": [
      "grade 类型数： 7\n",
      "subGrade 类型数： 35\n",
      "employmentTitle 类型数： 298101\n",
      "homeOwnership 类型数： 6\n",
      "verificationStatus 类型数： 3\n",
      "purpose 类型数： 14\n",
      "postCode 类型数： 935\n",
      "regionCode 类型数： 51\n",
      "applicationType 类型数： 2\n",
      "initialListStatus 类型数： 2\n",
      "title 类型数： 47903\n",
      "policyCode 类型数： 1\n"
     ]
    }
   ],
   "source": [
    "# - 类别特征处理\n",
    "# 部分类别特征\n",
    "cate_features = ['grade', 'subGrade', 'employmentTitle', 'homeOwnership', 'verificationStatus', 'purpose', 'postCode', 'regionCode', \\\n",
    "                 'applicationType', 'initialListStatus', 'title', 'policyCode']\n",
    "for f in cate_features:\n",
    "    print(f, '类型数：', data[f].nunique())"
   ]
  },
  {
   "cell_type": "code",
   "execution_count": 19,
   "id": "11d5c99e-e226-4154-8cba-aee2dd968773",
   "metadata": {},
   "outputs": [],
   "source": [
    "#类型数在2之上，又不是高维稀疏的,且纯分类特征\n",
    "data = pd.get_dummies(data, columns=['grade', 'subGrade', 'homeOwnership', 'verificationStatus', 'purpose', 'regionCode'], drop_first=True)"
   ]
  },
  {
   "cell_type": "code",
   "execution_count": 20,
   "id": "f25fb9ab-e838-405c-a4f2-5f8c6739fa1b",
   "metadata": {},
   "outputs": [],
   "source": [
    "# 高维类别特征需要进行转换\n",
    "for f in ['employmentTitle', 'postCode', 'title']:\n",
    "    data[f+'_cnts'] = data.groupby([f])['id'].transform('count')\n",
    "    data[f+'_rank'] = data.groupby([f])['id'].rank(ascending=False).astype(int)\n",
    "    del data[f]"
   ]
  },
  {
   "cell_type": "code",
   "execution_count": 21,
   "id": "11e47bcb-bb28-406c-98f4-a534fd888ffd",
   "metadata": {},
   "outputs": [],
   "source": [
    "#训练数据/测试数据准备\n",
    "features = [f for f in data.columns if f not in ['id','issueDate','isDefault']]\n",
    "\n",
    "train = data[data.isDefault.notnull()].reset_index(drop=True)\n",
    "test = data[data.isDefault.isnull()].reset_index(drop=True)\n",
    "\n",
    "x_train = train[features]\n",
    "x_test = test[features]\n",
    "\n",
    "y_train = train['isDefault']"
   ]
  },
  {
   "cell_type": "code",
   "execution_count": 22,
   "id": "85dd3ad4-35d6-48f7-93b3-866d39a28d17",
   "metadata": {},
   "outputs": [],
   "source": [
    "#模型训练\n",
    "#直接构建了一个函数，可以调用两种树模型，方便快捷\n",
    "def cv_model(clf, train_x, train_y, test_x, clf_name):\n",
    "    folds = 5\n",
    "    seed = 2020\n",
    "    kf = KFold(n_splits=folds, shuffle=True, random_state=seed)\n",
    "\n",
    "    train = np.zeros(train_x.shape[0])\n",
    "    test = np.zeros(test_x.shape[0])\n",
    "\n",
    "    cv_scores = []\n",
    "#lightbgm模型\n",
    "    for i, (train_index, valid_index) in enumerate(kf.split(train_x, train_y)):\n",
    "        print('************************************ {} ************************************'.format(str(i+1)))\n",
    "        trn_x, trn_y, val_x, val_y = train_x.iloc[train_index], train_y[train_index], train_x.iloc[valid_index], train_y[valid_index]\n",
    "\n",
    "        if clf_name == \"lgb\":\n",
    "            train_matrix = clf.Dataset(trn_x, label=trn_y)\n",
    "            valid_matrix = clf.Dataset(val_x, label=val_y)\n",
    "            #参数设置\n",
    "            params = {\n",
    "                'boosting_type': 'gbdt',\n",
    "                'objective': 'binary',\n",
    "                'metric': 'auc',\n",
    "                'min_child_weight': 5,\n",
    "                'num_leaves': 2 ** 5,\n",
    "                'lambda_l2': 10,\n",
    "                'feature_fraction': 0.8,\n",
    "                'bagging_fraction': 0.8,\n",
    "                'bagging_freq': 4,\n",
    "                'learning_rate': 0.1,\n",
    "                'seed': 2020,\n",
    "                'nthread': 28,\n",
    "                'n_jobs':24,\n",
    "                'silent': True,\n",
    "                'verbose': -1,\n",
    "            }\n",
    "\n",
    "            model = clf.train(params, train_matrix, 50000, valid_sets=[train_matrix, valid_matrix], verbose_eval=200,early_stopping_rounds=200)\n",
    "            val_pred = model.predict(val_x, num_iteration=model.best_iteration)\n",
    "            test_pred = model.predict(test_x, num_iteration=model.best_iteration)\n",
    "            \n",
    "            print(list(sorted(zip(features, model.feature_importance(\"gain\")), key=lambda x: x[1], reverse=True))[:20])\n",
    "     #catboost模型           \n",
    "        if clf_name == \"cat\":\n",
    "            #参数设置\n",
    "            params = {'learning_rate': 0.05, 'depth': 5, 'l2_leaf_reg': 10, 'bootstrap_type': 'Bernoulli',\n",
    "                      'od_type': 'Iter', 'od_wait': 50, 'random_seed': 11, 'allow_writing_files': False}\n",
    "            #迭代20000次\n",
    "            model = clf(iterations=20000, **params)\n",
    "            model.fit(trn_x, trn_y, eval_set=(val_x, val_y),\n",
    "                      cat_features=[], use_best_model=True, verbose=500)\n",
    "            \n",
    "            val_pred  = model.predict(val_x)\n",
    "            test_pred = model.predict(test_x)\n",
    "            \n",
    "        train[valid_index] = val_pred\n",
    "        test = test_pred / kf.n_splits\n",
    "        cv_scores.append(roc_auc_score(val_y, val_pred))\n",
    "        \n",
    "        print(cv_scores)\n",
    "       \n",
    "    print(\"%s_scotrainre_list:\" % clf_name, cv_scores)\n",
    "    print(\"%s_score_mean:\" % clf_name, np.mean(cv_scores))\n",
    "    print(\"%s_score_std:\" % clf_name, np.std(cv_scores))\n",
    "    return train, test"
   ]
  },
  {
   "cell_type": "code",
   "execution_count": 23,
   "id": "2ab48091-b437-48c5-9946-4df537bc1e83",
   "metadata": {},
   "outputs": [],
   "source": [
    "def lgb_model(x_train, y_train, x_test):\n",
    "    lgb_train, lgb_test = cv_model(lgb, x_train, y_train, x_test, \"lgb\")\n",
    "    return lgb_train, lgb_test\n",
    "def cat_model(x_train, y_train, x_test):\n",
    "    cat_train, cat_test = cv_model(CatBoostRegressor, x_train, y_train, x_test, \"cat\") \n",
    "    return cat_train, cat_test"
   ]
  },
  {
   "cell_type": "code",
   "execution_count": 24,
   "id": "277c78bb-bfe4-477a-af9d-9b2349b9d586",
   "metadata": {},
   "outputs": [
    {
     "name": "stdout",
     "output_type": "stream",
     "text": [
      "************************************ 1 ************************************\n",
      "[LightGBM] [Warning] num_threads is set with nthread=28, will be overridden by n_jobs=24. Current value: num_threads=24\n",
      "[LightGBM] [Warning] Unknown parameter: silent\n",
      "Training until validation scores don't improve for 200 rounds\n",
      "[200]\ttraining's auc: 0.742265\tvalid_1's auc: 0.729966\n",
      "[400]\ttraining's auc: 0.754881\tvalid_1's auc: 0.731007\n",
      "[600]\ttraining's auc: 0.765341\tvalid_1's auc: 0.731189\n",
      "[800]\ttraining's auc: 0.775294\tvalid_1's auc: 0.731062\n",
      "Early stopping, best iteration is:\n",
      "[642]\ttraining's auc: 0.767542\tvalid_1's auc: 0.731263\n",
      "[('interestRate', 151147.80319571495), ('ficoRangeLow', 19137.154885053635), ('dti', 19032.258338928223), ('term', 18235.050982952118), ('annualIncome', 15239.957035541534), ('revolBal', 13044.770475387573), ('loanAmnt', 11443.995622634888), ('installment', 11363.327191114426), ('homeOwnership_1', 10882.65342092514), ('employmentTitle_cnts', 9811.251173257828), ('title_cnts', 9260.674059867859), ('earliesCreditLine', 8759.672102689743), ('revolUtil', 8075.976095199585), ('n2', 7459.235381364822), ('n14', 6951.058540821075), ('grade_B', 6672.291397094727), ('title_rank', 6457.155842542648), ('postCode_cnts', 6225.484149932861), ('totalAcc', 6166.371126413345), ('grade_C', 5915.348285198212)]\n",
      "[0.7312627368400244]\n",
      "************************************ 2 ************************************\n",
      "[LightGBM] [Warning] num_threads is set with nthread=28, will be overridden by n_jobs=24. Current value: num_threads=24\n",
      "[LightGBM] [Warning] Unknown parameter: silent\n",
      "Training until validation scores don't improve for 200 rounds\n",
      "[200]\ttraining's auc: 0.743569\tvalid_1's auc: 0.726759\n",
      "[400]\ttraining's auc: 0.755857\tvalid_1's auc: 0.72773\n",
      "[600]\ttraining's auc: 0.766445\tvalid_1's auc: 0.727832\n",
      "[800]\ttraining's auc: 0.776637\tvalid_1's auc: 0.727904\n",
      "Early stopping, best iteration is:\n",
      "[683]\ttraining's auc: 0.770925\tvalid_1's auc: 0.728123\n",
      "[('interestRate', 151923.40095710754), ('ficoRangeLow', 19936.183054208755), ('dti', 19312.137455701828), ('term', 18554.398990392685), ('annualIncome', 15527.068565368652), ('revolBal', 13178.087126493454), ('loanAmnt', 12427.67873263359), ('installment', 10972.939980983734), ('homeOwnership_1', 10925.451931715012), ('employmentTitle_cnts', 9605.680895090103), ('earliesCreditLine', 9310.416965723038), ('title_cnts', 9163.893584012985), ('revolUtil', 8394.533259153366), ('n14', 7124.984704256058), ('n2', 7111.694677114487), ('title_rank', 6870.352321386337), ('totalAcc', 6687.561351299286), ('postCode_cnts', 6611.473975658417), ('grade_B', 6351.680422782898), ('employmentTitle_rank', 6169.932971000671)]\n",
      "[0.7312627368400244, 0.7281227355416444]\n",
      "************************************ 3 ************************************\n",
      "[LightGBM] [Warning] num_threads is set with nthread=28, will be overridden by n_jobs=24. Current value: num_threads=24\n",
      "[LightGBM] [Warning] Unknown parameter: silent\n",
      "Training until validation scores don't improve for 200 rounds\n",
      "[200]\ttraining's auc: 0.742436\tvalid_1's auc: 0.730951\n",
      "[400]\ttraining's auc: 0.754543\tvalid_1's auc: 0.732078\n",
      "[600]\ttraining's auc: 0.765401\tvalid_1's auc: 0.732484\n",
      "[800]\ttraining's auc: 0.775352\tvalid_1's auc: 0.732186\n",
      "Early stopping, best iteration is:\n",
      "[622]\ttraining's auc: 0.766508\tvalid_1's auc: 0.732537\n",
      "[('interestRate', 149376.7128381729), ('term', 19911.65781068802), ('ficoRangeLow', 19821.7286465168), ('dti', 18279.93932557106), ('annualIncome', 14937.397733211517), ('revolBal', 12648.536336660385), ('loanAmnt', 11707.234800100327), ('homeOwnership_1', 10719.93115401268), ('installment', 10572.651093482971), ('title_cnts', 9421.028984308243), ('employmentTitle_cnts', 9253.558187246323), ('earliesCreditLine', 8112.290883302689), ('revolUtil', 7245.03528881073), ('n14', 7198.873286962509), ('n2', 7142.607094287872), ('title_rank', 7058.094171524048), ('grade_B', 6405.140087127686), ('totalAcc', 6191.212148427963), ('employmentTitle_rank', 5941.752349853516), ('postCode_cnts', 5823.955089330673)]\n",
      "[0.7312627368400244, 0.7281227355416444, 0.7325372873375002]\n",
      "************************************ 4 ************************************\n",
      "[LightGBM] [Warning] num_threads is set with nthread=28, will be overridden by n_jobs=24. Current value: num_threads=24\n",
      "[LightGBM] [Warning] Unknown parameter: silent\n",
      "Training until validation scores don't improve for 200 rounds\n",
      "[200]\ttraining's auc: 0.74272\tvalid_1's auc: 0.729844\n",
      "[400]\ttraining's auc: 0.754898\tvalid_1's auc: 0.730803\n",
      "[600]\ttraining's auc: 0.766036\tvalid_1's auc: 0.731204\n",
      "[800]\ttraining's auc: 0.775819\tvalid_1's auc: 0.731105\n",
      "Early stopping, best iteration is:\n",
      "[655]\ttraining's auc: 0.768871\tvalid_1's auc: 0.731333\n",
      "[('interestRate', 167313.0982284546), ('term', 26241.897424459457), ('dti', 18748.714202165604), ('ficoRangeLow', 16311.228459358215), ('annualIncome', 15374.92786693573), ('revolBal', 12638.880018472672), ('loanAmnt', 11650.362984895706), ('homeOwnership_1', 10616.248773097992), ('installment', 10270.24989104271), ('employmentTitle_cnts', 9754.292717695236), ('title_cnts', 9430.866277217865), ('earliesCreditLine', 8591.154544353485), ('revolUtil', 8487.567076206207), ('grade_B', 8082.775639057159), ('title_rank', 7417.721799850464), ('n2', 6918.871956825256), ('n14', 6669.162853240967), ('postCode_cnts', 6586.371103286743), ('totalAcc', 6128.944371461868), ('postCode_rank', 5911.352890968323)]\n",
      "[0.7312627368400244, 0.7281227355416444, 0.7325372873375002, 0.7313329978706087]\n",
      "************************************ 5 ************************************\n",
      "[LightGBM] [Warning] num_threads is set with nthread=28, will be overridden by n_jobs=24. Current value: num_threads=24\n",
      "[LightGBM] [Warning] Unknown parameter: silent\n",
      "Training until validation scores don't improve for 200 rounds\n",
      "[200]\ttraining's auc: 0.742936\tvalid_1's auc: 0.729185\n",
      "[400]\ttraining's auc: 0.754842\tvalid_1's auc: 0.73015\n",
      "[600]\ttraining's auc: 0.765595\tvalid_1's auc: 0.730707\n",
      "[800]\ttraining's auc: 0.775488\tvalid_1's auc: 0.730701\n",
      "Early stopping, best iteration is:\n",
      "[713]\ttraining's auc: 0.771391\tvalid_1's auc: 0.730783\n",
      "[('interestRate', 151944.05594682693), ('dti', 19426.65275478363), ('ficoRangeLow', 19347.034998178482), ('term', 18385.821199417114), ('annualIncome', 15560.498511075974), ('revolBal', 13379.647875070572), ('loanAmnt', 13005.14306640625), ('installment', 11066.930343151093), ('homeOwnership_1', 10992.857155323029), ('title_cnts', 10256.977095127106), ('employmentTitle_cnts', 9467.588799476624), ('revolUtil', 8562.703516244888), ('earliesCreditLine', 8471.366158723831), ('n2', 7087.875734806061), ('totalAcc', 7046.77525305748), ('n14', 6959.077333688736), ('employmentTitle_rank', 6924.3791036605835), ('grade_B', 6749.600535392761), ('title_rank', 6619.810907840729), ('postCode_cnts', 6455.036758303642)]\n",
      "[0.7312627368400244, 0.7281227355416444, 0.7325372873375002, 0.7313329978706087, 0.7307834670206443]\n",
      "lgb_scotrainre_list: [0.7312627368400244, 0.7281227355416444, 0.7325372873375002, 0.7313329978706087, 0.7307834670206443]\n",
      "lgb_score_mean: 0.7308078449220844\n",
      "lgb_score_std: 0.0014617858948283529\n"
     ]
    }
   ],
   "source": [
    "lgb_train, lgb_test = lgb_model(x_train, y_train, x_test)"
   ]
  },
  {
   "cell_type": "code",
   "execution_count": 25,
   "id": "1fc635cf-718d-4092-9895-41690868dd68",
   "metadata": {},
   "outputs": [
    {
     "name": "stdout",
     "output_type": "stream",
     "text": [
      "************************************ 1 ************************************\n",
      "0:\tlearn: 0.3985252\ttest: 0.3966187\tbest: 0.3966187 (0)\ttotal: 244ms\tremaining: 1h 21m 10s\n",
      "500:\tlearn: 0.3772831\ttest: 0.3760231\tbest: 0.3760231 (500)\ttotal: 35.7s\tremaining: 23m 8s\n",
      "1000:\tlearn: 0.3757322\ttest: 0.3752631\tbest: 0.3752631 (1000)\ttotal: 1m 10s\tremaining: 22m 21s\n",
      "1500:\tlearn: 0.3746605\ttest: 0.3749365\tbest: 0.3749365 (1500)\ttotal: 1m 45s\tremaining: 21m 39s\n",
      "2000:\tlearn: 0.3737442\ttest: 0.3747361\tbest: 0.3747351 (1998)\ttotal: 2m 20s\tremaining: 21m 4s\n",
      "2500:\tlearn: 0.3729246\ttest: 0.3746068\tbest: 0.3746065 (2499)\ttotal: 2m 55s\tremaining: 20m 24s\n",
      "3000:\tlearn: 0.3721496\ttest: 0.3745194\tbest: 0.3745185 (2999)\ttotal: 3m 31s\tremaining: 19m 58s\n",
      "3500:\tlearn: 0.3714302\ttest: 0.3744597\tbest: 0.3744587 (3489)\ttotal: 4m 5s\tremaining: 19m 18s\n",
      "Stopped by overfitting detector  (50 iterations wait)\n",
      "\n",
      "bestTest = 0.3744586891\n",
      "bestIteration = 3489\n",
      "\n",
      "Shrink model to first 3490 iterations.\n",
      "[0.7322693541754786]\n",
      "************************************ 2 ************************************\n",
      "0:\tlearn: 0.3979537\ttest: 0.3988945\tbest: 0.3988945 (0)\ttotal: 82.5ms\tremaining: 27m 29s\n",
      "500:\tlearn: 0.3765918\ttest: 0.3788011\tbest: 0.3788011 (500)\ttotal: 36.6s\tremaining: 23m 44s\n",
      "1000:\tlearn: 0.3750387\ttest: 0.3780048\tbest: 0.3780048 (1000)\ttotal: 1m 11s\tremaining: 22m 38s\n",
      "1500:\tlearn: 0.3739584\ttest: 0.3776612\tbest: 0.3776612 (1500)\ttotal: 1m 45s\tremaining: 21m 42s\n",
      "2000:\tlearn: 0.3730519\ttest: 0.3774652\tbest: 0.3774652 (2000)\ttotal: 2m 20s\tremaining: 21m 1s\n",
      "2500:\tlearn: 0.3722241\ttest: 0.3773281\tbest: 0.3773281 (2500)\ttotal: 2m 54s\tremaining: 20m 21s\n",
      "3000:\tlearn: 0.3714568\ttest: 0.3772372\tbest: 0.3772364 (2999)\ttotal: 3m 29s\tremaining: 19m 45s\n",
      "3500:\tlearn: 0.3707206\ttest: 0.3771680\tbest: 0.3771677 (3499)\ttotal: 4m 3s\tremaining: 19m 8s\n",
      "4000:\tlearn: 0.3700078\ttest: 0.3771115\tbest: 0.3771111 (3996)\ttotal: 4m 38s\tremaining: 18m 32s\n",
      "Stopped by overfitting detector  (50 iterations wait)\n",
      "\n",
      "bestTest = 0.377107171\n",
      "bestIteration = 4030\n",
      "\n",
      "Shrink model to first 4031 iterations.\n",
      "[0.7322693541754786, 0.7290713369972834]\n",
      "************************************ 3 ************************************\n",
      "0:\tlearn: 0.3980280\ttest: 0.3987527\tbest: 0.3987527 (0)\ttotal: 80.9ms\tremaining: 26m 58s\n",
      "500:\tlearn: 0.3768797\ttest: 0.3777182\tbest: 0.3777182 (500)\ttotal: 35.8s\tremaining: 23m 13s\n",
      "1000:\tlearn: 0.3753367\ttest: 0.3769114\tbest: 0.3769114 (1000)\ttotal: 1m 11s\tremaining: 22m 28s\n",
      "1500:\tlearn: 0.3742549\ttest: 0.3765570\tbest: 0.3765570 (1500)\ttotal: 1m 45s\tremaining: 21m 43s\n",
      "2000:\tlearn: 0.3733300\ttest: 0.3763671\tbest: 0.3763670 (1997)\ttotal: 2m 20s\tremaining: 21m 1s\n",
      "2500:\tlearn: 0.3725051\ttest: 0.3762358\tbest: 0.3762355 (2495)\ttotal: 2m 54s\tremaining: 20m 23s\n",
      "3000:\tlearn: 0.3717365\ttest: 0.3761647\tbest: 0.3761641 (2987)\ttotal: 3m 29s\tremaining: 19m 45s\n",
      "3500:\tlearn: 0.3710003\ttest: 0.3760863\tbest: 0.3760857 (3498)\ttotal: 4m 3s\tremaining: 19m 8s\n",
      "4000:\tlearn: 0.3702964\ttest: 0.3760294\tbest: 0.3760287 (3994)\ttotal: 4m 38s\tremaining: 18m 32s\n",
      "4500:\tlearn: 0.3696125\ttest: 0.3759791\tbest: 0.3759791 (4500)\ttotal: 5m 12s\tremaining: 17m 57s\n",
      "Stopped by overfitting detector  (50 iterations wait)\n",
      "\n",
      "bestTest = 0.3759652753\n",
      "bestIteration = 4614\n",
      "\n",
      "Shrink model to first 4615 iterations.\n",
      "[0.7322693541754786, 0.7290713369972834, 0.733727646646168]\n",
      "************************************ 4 ************************************\n",
      "0:\tlearn: 0.3980749\ttest: 0.3983972\tbest: 0.3983972 (0)\ttotal: 87ms\tremaining: 28m 59s\n",
      "500:\tlearn: 0.3768573\ttest: 0.3778534\tbest: 0.3778534 (500)\ttotal: 35.5s\tremaining: 23m 1s\n",
      "1000:\tlearn: 0.3753648\ttest: 0.3770350\tbest: 0.3770350 (1000)\ttotal: 1m 10s\tremaining: 22m 9s\n",
      "1500:\tlearn: 0.3743038\ttest: 0.3766800\tbest: 0.3766800 (1500)\ttotal: 1m 45s\tremaining: 21m 37s\n",
      "2000:\tlearn: 0.3733811\ttest: 0.3764489\tbest: 0.3764489 (2000)\ttotal: 2m 19s\tremaining: 20m 58s\n",
      "2500:\tlearn: 0.3725649\ttest: 0.3762943\tbest: 0.3762938 (2498)\ttotal: 2m 54s\tremaining: 20m 19s\n",
      "3000:\tlearn: 0.3717880\ttest: 0.3761879\tbest: 0.3761877 (2998)\ttotal: 3m 29s\tremaining: 19m 46s\n",
      "3500:\tlearn: 0.3710479\ttest: 0.3761285\tbest: 0.3761279 (3495)\ttotal: 4m 3s\tremaining: 19m 8s\n",
      "4000:\tlearn: 0.3703460\ttest: 0.3760677\tbest: 0.3760677 (4000)\ttotal: 4m 38s\tremaining: 18m 33s\n",
      "Stopped by overfitting detector  (50 iterations wait)\n",
      "\n",
      "bestTest = 0.3760670846\n",
      "bestIteration = 4002\n",
      "\n",
      "Shrink model to first 4003 iterations.\n",
      "[0.7322693541754786, 0.7290713369972834, 0.733727646646168, 0.7323240797104138]\n",
      "************************************ 5 ************************************\n",
      "0:\tlearn: 0.3981448\ttest: 0.3980859\tbest: 0.3980859 (0)\ttotal: 82.6ms\tremaining: 27m 32s\n",
      "500:\tlearn: 0.3768797\ttest: 0.3777028\tbest: 0.3777028 (500)\ttotal: 36.2s\tremaining: 23m 28s\n",
      "1000:\tlearn: 0.3753304\ttest: 0.3769081\tbest: 0.3769081 (1000)\ttotal: 1m 11s\tremaining: 22m 41s\n",
      "1500:\tlearn: 0.3742547\ttest: 0.3765737\tbest: 0.3765737 (1500)\ttotal: 1m 47s\tremaining: 22m 3s\n",
      "2000:\tlearn: 0.3733307\ttest: 0.3763561\tbest: 0.3763554 (1999)\ttotal: 2m 23s\tremaining: 21m 33s\n",
      "2500:\tlearn: 0.3725237\ttest: 0.3762301\tbest: 0.3762278 (2477)\ttotal: 2m 58s\tremaining: 20m 47s\n",
      "3000:\tlearn: 0.3717603\ttest: 0.3761330\tbest: 0.3761325 (2995)\ttotal: 3m 33s\tremaining: 20m 6s\n",
      "3500:\tlearn: 0.3710414\ttest: 0.3760464\tbest: 0.3760443 (3491)\ttotal: 4m 7s\tremaining: 19m 26s\n",
      "Stopped by overfitting detector  (50 iterations wait)\n",
      "\n",
      "bestTest = 0.3760001069\n",
      "bestIteration = 3854\n",
      "\n",
      "Shrink model to first 3855 iterations.\n",
      "[0.7322693541754786, 0.7290713369972834, 0.733727646646168, 0.7323240797104138, 0.7309965059372803]\n",
      "cat_scotrainre_list: [0.7322693541754786, 0.7290713369972834, 0.733727646646168, 0.7323240797104138, 0.7309965059372803]\n",
      "cat_score_mean: 0.7316777846933248\n",
      "cat_score_std: 0.0015637964101941554\n"
     ]
    }
   ],
   "source": [
    "cat_train, cat_test = cat_model(x_train, y_train, x_test)"
   ]
  },
  {
   "cell_type": "code",
   "execution_count": 26,
   "id": "fe233a48-0d7b-4aa7-ab61-ce95290a9072",
   "metadata": {},
   "outputs": [],
   "source": [
    "rh_test = lgb_test*0.5 + cat_test*0.5"
   ]
  },
  {
   "cell_type": "code",
   "execution_count": 27,
   "id": "5f0ec13b-3c33-4cca-a964-14f3de10f87c",
   "metadata": {},
   "outputs": [],
   "source": [
    "testA['isDefault'] = rh_test"
   ]
  },
  {
   "cell_type": "code",
   "execution_count": 28,
   "id": "6b5e0e9d-5835-48d9-85d1-948e4801e202",
   "metadata": {},
   "outputs": [],
   "source": [
    "testA[['id','isDefault']].to_csv('test_sub.csv', index=False)"
   ]
  },
  {
   "cell_type": "code",
   "execution_count": 29,
   "id": "0429bfb7-4285-4602-9e1f-a62c61ac75f3",
   "metadata": {},
   "outputs": [],
   "source": [
    "testA_result = pd.read_csv('test_sub.csv')"
   ]
  },
  {
   "cell_type": "code",
   "execution_count": 30,
   "id": "e88a42d7-1df1-44b3-84de-7936de438530",
   "metadata": {},
   "outputs": [
    {
     "name": "stdout",
     "output_type": "stream",
     "text": [
      "拟合效果: 0.9858982020890855\n"
     ]
    }
   ],
   "source": [
    "from sklearn.metrics import r2_score\n",
    "score= r2_score(testA_result['isDefault'].values, lgb_test)\n",
    "print('拟合效果:',score)"
   ]
  },
  {
   "cell_type": "code",
   "execution_count": 32,
   "id": "bb7dc32b-a4e0-4aa4-822f-3fac64de4812",
   "metadata": {},
   "outputs": [
    {
     "name": "stdout",
     "output_type": "stream",
     "text": [
      "训练准确度(acc): 0.800456\n"
     ]
    }
   ],
   "source": [
    "from sklearn.linear_model import LogisticRegression \n",
    "lr = LogisticRegression()\n",
    "lr.fit(x_train, y_train)\n",
    "print(\"训练准确度(acc): %f\" %(lr.score(x_train, y_train)))"
   ]
  },
  {
   "cell_type": "code",
   "execution_count": null,
   "id": "854717cc-55ce-4ae0-90e3-c1d7b81d1d72",
   "metadata": {},
   "outputs": [],
   "source": []
  }
 ],
 "metadata": {
  "kernelspec": {
   "display_name": "Python 3",
   "language": "python",
   "name": "python3"
  },
  "language_info": {
   "codemirror_mode": {
    "name": "ipython",
    "version": 3
   },
   "file_extension": ".py",
   "mimetype": "text/x-python",
   "name": "python",
   "nbconvert_exporter": "python",
   "pygments_lexer": "ipython3",
   "version": "3.8.8"
  }
 },
 "nbformat": 4,
 "nbformat_minor": 5
}
